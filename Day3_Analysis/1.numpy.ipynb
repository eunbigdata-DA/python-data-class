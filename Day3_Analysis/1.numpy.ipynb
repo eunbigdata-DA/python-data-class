{
 "cells": [
  {
   "cell_type": "code",
   "execution_count": 2,
   "id": "4ce41764",
   "metadata": {},
   "outputs": [],
   "source": [
    "import numpy as np"
   ]
  },
  {
   "cell_type": "code",
   "execution_count": 4,
   "id": "20ef155b",
   "metadata": {},
   "outputs": [
    {
     "name": "stdout",
     "output_type": "stream",
     "text": [
      "[1 2 3 4 5 6 7 8 9]\n",
      "6\n",
      "9\n",
      "[1 2 3 4]\n",
      "[1 2 3 4 5 6 7 8 9]\n",
      "[False False False False False False False  True  True]\n",
      "[8 9]\n",
      "[1 2 3 4 5 6 7]\n"
     ]
    }
   ],
   "source": [
    "# 1차원 인덱싱\n",
    "arr = np.arange(1, 10)\n",
    "print(arr)\n",
    "print(arr[5])\n",
    "print(arr[-1])\n",
    "print(arr[0:4])\n",
    "print(arr[:])\n",
    "print(arr > 7)\n",
    "print(arr[arr>7])\n",
    "print(arr[~(arr>7)])"
   ]
  },
  {
   "cell_type": "code",
   "execution_count": null,
   "id": "1c3336b2",
   "metadata": {},
   "outputs": [],
   "source": []
  }
 ],
 "metadata": {
  "kernelspec": {
   "display_name": "Python 3 (ipykernel)",
   "language": "python",
   "name": "python3"
  },
  "language_info": {
   "codemirror_mode": {
    "name": "ipython",
    "version": 3
   },
   "file_extension": ".py",
   "mimetype": "text/x-python",
   "name": "python",
   "nbconvert_exporter": "python",
   "pygments_lexer": "ipython3",
   "version": "3.9.13"
  }
 },
 "nbformat": 4,
 "nbformat_minor": 5
}
