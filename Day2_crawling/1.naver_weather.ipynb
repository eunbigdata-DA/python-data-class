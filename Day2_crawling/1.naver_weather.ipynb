{
 "cells": [
  {
   "cell_type": "markdown",
   "id": "80a1b03f",
   "metadata": {},
   "source": [
    "# 크롤링 기초\n",
    "### 1. 네이버 날씨 정보 가져오기"
   ]
  },
  {
   "cell_type": "code",
   "execution_count": 1,
   "id": "4ba1059b",
   "metadata": {
    "scrolled": true
   },
   "outputs": [
    {
     "name": "stdout",
     "output_type": "stream",
     "text": [
      "Requirement already satisfied: selenium in c:\\users\\1\\anaconda3\\lib\\site-packages (4.5.0)\n",
      "Requirement already satisfied: trio~=0.17 in c:\\users\\1\\anaconda3\\lib\\site-packages (from selenium) (0.22.0)\n",
      "Requirement already satisfied: urllib3[socks]~=1.26 in c:\\users\\1\\anaconda3\\lib\\site-packages (from selenium) (1.26.11)\n",
      "Requirement already satisfied: trio-websocket~=0.9 in c:\\users\\1\\anaconda3\\lib\\site-packages (from selenium) (0.9.2)\n",
      "Requirement already satisfied: certifi>=2021.10.8 in c:\\users\\1\\anaconda3\\lib\\site-packages (from selenium) (2022.9.14)\n",
      "Requirement already satisfied: sniffio in c:\\users\\1\\anaconda3\\lib\\site-packages (from trio~=0.17->selenium) (1.2.0)\n",
      "Requirement already satisfied: outcome in c:\\users\\1\\anaconda3\\lib\\site-packages (from trio~=0.17->selenium) (1.2.0)\n",
      "Requirement already satisfied: cffi>=1.14 in c:\\users\\1\\anaconda3\\lib\\site-packages (from trio~=0.17->selenium) (1.15.1)\n",
      "Requirement already satisfied: exceptiongroup>=1.0.0rc9 in c:\\users\\1\\anaconda3\\lib\\site-packages (from trio~=0.17->selenium) (1.0.0rc9)\n",
      "Requirement already satisfied: attrs>=19.2.0 in c:\\users\\1\\anaconda3\\lib\\site-packages (from trio~=0.17->selenium) (21.4.0)\n",
      "Requirement already satisfied: idna in c:\\users\\1\\anaconda3\\lib\\site-packages (from trio~=0.17->selenium) (3.3)\n",
      "Requirement already satisfied: sortedcontainers in c:\\users\\1\\anaconda3\\lib\\site-packages (from trio~=0.17->selenium) (2.4.0)\n",
      "Requirement already satisfied: async-generator>=1.9 in c:\\users\\1\\anaconda3\\lib\\site-packages (from trio~=0.17->selenium) (1.10)\n",
      "Requirement already satisfied: wsproto>=0.14 in c:\\users\\1\\anaconda3\\lib\\site-packages (from trio-websocket~=0.9->selenium) (1.2.0)\n",
      "Requirement already satisfied: PySocks!=1.5.7,<2.0,>=1.5.6 in c:\\users\\1\\anaconda3\\lib\\site-packages (from urllib3[socks]~=1.26->selenium) (1.7.1)\n",
      "Requirement already satisfied: pycparser in c:\\users\\1\\anaconda3\\lib\\site-packages (from cffi>=1.14->trio~=0.17->selenium) (2.21)\n",
      "Requirement already satisfied: h11<1,>=0.9.0 in c:\\users\\1\\anaconda3\\lib\\site-packages (from wsproto>=0.14->trio-websocket~=0.9->selenium) (0.14.0)\n",
      "Note: you may need to restart the kernel to use updated packages.\n"
     ]
    }
   ],
   "source": [
    "pip install selenium"
   ]
  },
  {
   "cell_type": "code",
   "execution_count": 1,
   "id": "81f629da",
   "metadata": {},
   "outputs": [],
   "source": [
    "from selenium import webdriver"
   ]
  },
  {
   "cell_type": "code",
   "execution_count": 2,
   "id": "62f0b5e9",
   "metadata": {},
   "outputs": [],
   "source": [
    "browser = webdriver.Chrome() # 경로지정"
   ]
  },
  {
   "cell_type": "code",
   "execution_count": 3,
   "id": "90eca4ba",
   "metadata": {},
   "outputs": [],
   "source": [
    "browser.get(\"http://naver.com\")  # 페이지 이동"
   ]
  },
  {
   "cell_type": "code",
   "execution_count": 4,
   "id": "4032a86e",
   "metadata": {},
   "outputs": [],
   "source": [
    "from selenium.webdriver.common.by import By  # selenium의 새로운 패키지"
   ]
  },
  {
   "cell_type": "code",
   "execution_count": 16,
   "id": "3cec0a40",
   "metadata": {},
   "outputs": [],
   "source": [
    "browser.find_element(By.ID, 'query').click()  # 검색창에서 id = 'query' 가져오기. 만약 class값이 있으면 그걸, 없으면 id값 가져오기"
   ]
  },
  {
   "cell_type": "code",
   "execution_count": 19,
   "id": "4a8527d3",
   "metadata": {},
   "outputs": [],
   "source": [
    "browser.find_element(By.ID, 'query').send_keys(\"날씨\")"
   ]
  },
  {
   "cell_type": "code",
   "execution_count": 21,
   "id": "392919af",
   "metadata": {},
   "outputs": [],
   "source": [
    "browser.find_element(By.ID, 'search_btn').click()"
   ]
  },
  {
   "cell_type": "code",
   "execution_count": 45,
   "id": "6426d539",
   "metadata": {},
   "outputs": [
    {
     "data": {
      "text/plain": [
       "'16.1°'"
      ]
     },
     "execution_count": 45,
     "metadata": {},
     "output_type": "execute_result"
    }
   ],
   "source": [
    "data = browser.find_element(By.XPATH, '//*[@id=\"main_pack\"]/section[1]/div[1]/div[2]/div[1]/div[1]/div/div[2]/div/div[1]/div[1]/div[2]').text\n",
    "data[6:]"
   ]
  },
  {
   "cell_type": "code",
   "execution_count": 44,
   "id": "1522b41c",
   "metadata": {},
   "outputs": [
    {
     "data": {
      "text/plain": [
       "'°'"
      ]
     },
     "execution_count": 44,
     "metadata": {},
     "output_type": "execute_result"
    }
   ],
   "source": [
    "browser.find_element(By.XPATH, '//*[@id=\"main_pack\"]/section[1]/div[1]/div[2]/div[1]/div[1]/div/div[2]/div/div[1]/div[1]/div[2]').find_element(By.CLASS_NAME, 'celsius').text"
   ]
  },
  {
   "cell_type": "code",
   "execution_count": 51,
   "id": "19fc1928",
   "metadata": {},
   "outputs": [],
   "source": [
    "# 기존 검색어 지우고 '환율' 검색\n",
    "browser.find_element(By.ID, 'nx_query').clear()\n",
    "browser.find_element(By.ID, 'nx_query').send_keys(\"환율\")\n",
    "browser.find_element(By.CLASS_NAME, 'bt_search').click()"
   ]
  },
  {
   "cell_type": "code",
   "execution_count": 60,
   "id": "42b325f7",
   "metadata": {},
   "outputs": [
    {
     "data": {
      "text/plain": [
       "'1,435.70'"
      ]
     },
     "execution_count": 60,
     "metadata": {},
     "output_type": "execute_result"
    }
   ],
   "source": [
    "data = browser.find_element(By.XPATH, '//*[@id=\"_cs_foreigninfo\"]/div/div[2]/div/div[1]/div[1]/div[1]/div[1]/h3/a/span[2]/strong').text\n",
    "data"
   ]
  },
  {
   "cell_type": "markdown",
   "id": "43f7ec2d",
   "metadata": {},
   "source": [
    "### 2. 구글 뉴스 클리핑\n",
    "#### 단건 뉴스 크롤링"
   ]
  },
  {
   "cell_type": "code",
   "execution_count": 5,
   "id": "1e66bd3b",
   "metadata": {},
   "outputs": [],
   "source": [
    "browser = webdriver.Chrome()\n",
    "browser.get('https://www.google.com/search?q=%EC%9E%90%EB%8F%99%ED%99%94&source=lnms&tbm=nws&tbs=qdr:w&sa=X&ved=2ahUKEwiPuqjN4Pr6AhWJAd4KHbWaAaEQ_AUoAnoECAEQBA&biw=939&bih=815&dpr=1.5')"
   ]
  },
  {
   "cell_type": "code",
   "execution_count": 6,
   "id": "10dfb05c",
   "metadata": {},
   "outputs": [
    {
     "data": {
      "text/plain": [
       "\"'5분이면 청약 끝'…한화생명, 청약자동화 솔루션 특허 취득\""
      ]
     },
     "execution_count": 6,
     "metadata": {},
     "output_type": "execute_result"
    }
   ],
   "source": [
    "# 제목\n",
    "# browser.find_element(By.XPATH, '//*[@id=\"rso\"]/div/div/div[1]/div/div/a/div/div/div[2]').text\n",
    "browser.find_element(By.CLASS_NAME, 'mCBkyc').text"
   ]
  },
  {
   "cell_type": "code",
   "execution_count": 7,
   "id": "ffdbef4b",
   "metadata": {},
   "outputs": [
    {
     "data": {
      "text/plain": [
       "'(서울=연합인포맥스) 정지서 기자 = 한화생명이 업계 최초로 보험 신계약 과정을 로봇 기술로 자동화하며 법인대리점(GA) 시장에서의 영업 경쟁력 강화에 나섰다.'"
      ]
     },
     "execution_count": 7,
     "metadata": {},
     "output_type": "execute_result"
    }
   ],
   "source": [
    "# 내용\n",
    "# browser.find_element(By.XPATH, '//*[@id=\"rso\"]/div/div/div[1]/div/div/a/div/div/div[3]').text\n",
    "browser.find_element(By.CLASS_NAME, 'GI74Re').text"
   ]
  },
  {
   "cell_type": "code",
   "execution_count": 23,
   "id": "3d6397cd",
   "metadata": {},
   "outputs": [
    {
     "data": {
      "text/plain": [
       "'https://news.einfomax.co.kr/news/articleView.html?idxno=4239120'"
      ]
     },
     "execution_count": 23,
     "metadata": {},
     "output_type": "execute_result"
    }
   ],
   "source": [
    "# 링크\n",
    "browser.find_element(By.CLASS_NAME, 'WlydOe').get_attribute('href')"
   ]
  },
  {
   "cell_type": "markdown",
   "id": "ba0d16d9",
   "metadata": {},
   "source": [
    "#### 다건 뉴스 크롤링"
   ]
  },
  {
   "cell_type": "code",
   "execution_count": 13,
   "id": "84e46afc",
   "metadata": {},
   "outputs": [
    {
     "data": {
      "text/plain": [
       "[<selenium.webdriver.remote.webelement.WebElement (session=\"0596b017bc2bb3041dff80678537c2d8\", element=\"45a1b345-bd25-4239-b08d-6b4e48d751e1\")>,\n",
       " <selenium.webdriver.remote.webelement.WebElement (session=\"0596b017bc2bb3041dff80678537c2d8\", element=\"7c260969-6bc9-4cf1-b60c-ad65d5d69555\")>,\n",
       " <selenium.webdriver.remote.webelement.WebElement (session=\"0596b017bc2bb3041dff80678537c2d8\", element=\"b48a8ae5-b38b-4ef5-bcc1-63256b79d168\")>,\n",
       " <selenium.webdriver.remote.webelement.WebElement (session=\"0596b017bc2bb3041dff80678537c2d8\", element=\"2c0b820e-36ca-4007-8e2b-861ec844d8e8\")>,\n",
       " <selenium.webdriver.remote.webelement.WebElement (session=\"0596b017bc2bb3041dff80678537c2d8\", element=\"14f36f24-bce1-48f4-8b63-aaeb33da87b4\")>,\n",
       " <selenium.webdriver.remote.webelement.WebElement (session=\"0596b017bc2bb3041dff80678537c2d8\", element=\"470c615f-27d6-4aaa-a454-cffcefa95112\")>,\n",
       " <selenium.webdriver.remote.webelement.WebElement (session=\"0596b017bc2bb3041dff80678537c2d8\", element=\"06f30675-d49d-480d-9cb2-4da3b639118b\")>,\n",
       " <selenium.webdriver.remote.webelement.WebElement (session=\"0596b017bc2bb3041dff80678537c2d8\", element=\"16b26802-33ea-4e70-ac13-30415dd03977\")>,\n",
       " <selenium.webdriver.remote.webelement.WebElement (session=\"0596b017bc2bb3041dff80678537c2d8\", element=\"fb2bdf98-ccea-48a6-921d-d341e123d6f5\")>,\n",
       " <selenium.webdriver.remote.webelement.WebElement (session=\"0596b017bc2bb3041dff80678537c2d8\", element=\"e5a51bef-b2dc-4bae-ad80-2aa5c30d9e7f\")>]"
      ]
     },
     "execution_count": 13,
     "metadata": {},
     "output_type": "execute_result"
    }
   ],
   "source": [
    "browser.find_elements(By.CLASS_NAME, 'mCBkyc')"
   ]
  },
  {
   "cell_type": "code",
   "execution_count": 28,
   "id": "8c2b89f5",
   "metadata": {},
   "outputs": [
    {
     "data": {
      "text/plain": [
       "\"한화생명, '청약자동화 솔루션' 특허 취득...5분이면 청약 가능\""
      ]
     },
     "execution_count": 28,
     "metadata": {},
     "output_type": "execute_result"
    }
   ],
   "source": [
    "browser.find_elements(By.CLASS_NAME, 'mCBkyc')[1].text"
   ]
  },
  {
   "cell_type": "code",
   "execution_count": 45,
   "id": "38ec4c7e",
   "metadata": {},
   "outputs": [
    {
     "data": {
      "text/plain": [
       "\"한화생명 '청약자동화 솔루션' 특허 취득...5분이면 청약 가능\""
      ]
     },
     "execution_count": 45,
     "metadata": {},
     "output_type": "execute_result"
    }
   ],
   "source": [
    "browser.find_elements(By.CLASS_NAME, 'mCBkyc')[1].text.replace(',','')"
   ]
  },
  {
   "cell_type": "code",
   "execution_count": 46,
   "id": "dfb348dd",
   "metadata": {},
   "outputs": [
    {
     "data": {
      "text/plain": [
       "[\"'5분이면 청약 끝'…한화생명 청약자동화 솔루션 특허 취득\",\n",
       " \"한화생명 '청약자동화 솔루션' 특허 취득...5분이면 청약 가능\",\n",
       " '한화생명 ‘보험 신계약 자동화’ 특허 취득',\n",
       " '롯데홈쇼핑 이천 물류센터 오픈...최첨단 자동화 시스템 갖춰',\n",
       " '‘2022 국제 공구 및 스마트 용접 자동화전’ 성료',\n",
       " \"지멘스 차세대 IC DFT 자동화 솔루션 '테센트 멀티-다이' 공개\",\n",
       " '창원시 \"국내 최대 용접 및 절단자동화전 328억 수출상담\"',\n",
       " '자동화로 네트워크 전체 스위치 업그레이드를 효율화하는 방법',\n",
       " '롯데홈쇼핑 이천 물류센터 오픈…자동화 시스템 도입',\n",
       " '유아이패스 “자동화 시장 RPA에서 지능형 프로세스 자동화(IPA ...']"
      ]
     },
     "execution_count": 46,
     "metadata": {},
     "output_type": "execute_result"
    }
   ],
   "source": [
    "titles = browser.find_elements(By.CLASS_NAME, 'mCBkyc')\n",
    "\n",
    "title = []\n",
    "for i in titles:\n",
    "    title.append(i.text.replace(',',''))\n",
    "\n",
    "title"
   ]
  },
  {
   "cell_type": "code",
   "execution_count": 47,
   "id": "8ff5bc49",
   "metadata": {},
   "outputs": [
    {
     "data": {
      "text/plain": [
       "['(서울=연합인포맥스) 정지서 기자 = 한화생명이 업계 최초로 보험 신계약 과정을 로봇 기술로 자동화하며 법인대리점(GA) 시장에서의 영업 경쟁력 강화에 나섰다.',\n",
       " \"한화생명은 보험설계 및 청약 업무 프로세스 자동화 기술인 '청약자동화 솔루션'에 대한 BM특허를 특허청으로부터 취득했다고 25일 밝혔다.\",\n",
       " '청약 자동화 솔루션은 보험 가입 설계부터 청약에 이르는 신계약을 진행하는 동안 설계봇이 설계사를 보조하는 시스템이다. 이 시스템이 업무에 적용되면 법인보험대리점(...',\n",
       " '자율주행로봇 무인운반차 로봇팔 디팔렛타이저 등 최첨단 자동화 설비 도입. 롯데홈쇼핑(대표 이완신)이 난 21일(금) 경기도 이천에서 업계 최초로 자동화 시스템을...',\n",
       " \"최첨단 공구 및 스마트 용접 자동화기기를 한눈에 볼 수 있었던 '2022 국제 공구 및 스마트 용접 자동화전(TOOL TECH + SMART WELDING AUTOMATION FAIR)'이 나흘간 2...\",\n",
       " '... 가 선보인 테센트 멀티-다이 소프트웨어는 2.5D 및 3D IC 설계와 관련된 매우 복잡한 DFT 작업을 수행하기 위한 업계에서 가장 포괄적인 DFT 자동화 솔루션이다.',\n",
       " '용접 절단 최대 수요지인 창원에서 지난 18일부터 4일 간 개최된 34년 역사의 용접·절단 기술 전문 전시회인 창원국제용접 및 절단자동화전에는 1만여명의 관람객이 다녀...',\n",
       " '자동화는 반복적인 네트워킹 작업에서 큰 차이를 만들어낼 수 있다. 파이썬 스크립트와 오픈소스 툴을 사용해 엔터프라이즈 스위치 업그레이드를 효율화하기 위해 필자...',\n",
       " '롯데홈쇼핑은 경기도 이천에 자동화 시스템을 도입한 최첨단 물류센터를 오픈했다. 지난 21일 열린 오픈식에는 이완신 롯데홈쇼핑 대표 박찬복 롯데글로벌로지스 대표...',\n",
       " '웨이브2에는 엔터프라이즈 자동화뿐 아니라 퍼스널 자동화(Personal Automation) 요소도 포함된다. 그는 “지난 3년 동안 많은 기업들이 RPA를 적용하면서 시간과 비용을...']"
      ]
     },
     "execution_count": 47,
     "metadata": {},
     "output_type": "execute_result"
    }
   ],
   "source": [
    "contents = browser.find_elements(By.CLASS_NAME, 'GI74Re')\n",
    "\n",
    "content = []\n",
    "for i in contents:\n",
    "    content.append(i.text.replace(',',''))\n",
    "\n",
    "content"
   ]
  },
  {
   "cell_type": "code",
   "execution_count": 33,
   "id": "c99b29ee",
   "metadata": {},
   "outputs": [
    {
     "data": {
      "text/plain": [
       "['https://news.einfomax.co.kr/news/articleView.html?idxno=4239120',\n",
       " 'https://www.ngetnews.com/news/articleView.html?idxno=411836',\n",
       " 'https://m.khan.co.kr/economy/finance/article/202210251130001',\n",
       " 'http://www.klnews.co.kr/news/articleView.html?idxno=305926',\n",
       " 'http://www.snmnews.com/news/articleView.html?idxno=506612',\n",
       " 'https://www.hellot.net/news/article.html?no=72189',\n",
       " 'http://www.newsfreezone.co.kr/news/articleView.html?idxno=419338',\n",
       " 'https://www.itworld.co.kr/news/260974',\n",
       " 'https://www.etnews.com/20221023000012',\n",
       " 'https://byline.network/2022/10/20-208/']"
      ]
     },
     "execution_count": 33,
     "metadata": {},
     "output_type": "execute_result"
    }
   ],
   "source": [
    "links = browser.find_elements(By.CLASS_NAME, 'WlydOe')\n",
    "\n",
    "link = []\n",
    "for i in links:\n",
    "    link.append(i.get_attribute('href'))\n",
    "\n",
    "link"
   ]
  },
  {
   "cell_type": "code",
   "execution_count": 40,
   "id": "d5dddd89",
   "metadata": {},
   "outputs": [],
   "source": [
    "# sample\n",
    "file = open('test.csv', 'a', encoding='UTF-8-sig')\n",
    "file.write(\"{}, {}, {} \\n\".format(\"제목\", '내용', '링크'))\n",
    "file.write(\"{}, {}, {} \\n\".format(\"제목2\", '내용2', '링크2'))\n",
    "file.close()"
   ]
  },
  {
   "cell_type": "code",
   "execution_count": 48,
   "id": "75f47bfd",
   "metadata": {},
   "outputs": [
    {
     "data": {
      "text/plain": [
       "<_io.TextIOWrapper name='google_news.csv' mode='a' encoding='UTF-8-sig'>"
      ]
     },
     "execution_count": 48,
     "metadata": {},
     "output_type": "execute_result"
    }
   ],
   "source": [
    "# 뉴스 데이터 엑셀 저장 (pandas 사용x)\n",
    "file = open('google_news.csv', 'a', encoding='UTF-8-sig')\n",
    "file.write(\"{}, {}, {} \\n\".format(\"제목\", '내용', '링크'))\n",
    "\n",
    "for i in range(len(title)):\n",
    "    file.write(\"{}, {}, {} \\n\".format(title[i], content[i], link[i]))\n",
    "file.close()\n",
    "\n",
    "file"
   ]
  },
  {
   "cell_type": "markdown",
   "id": "bd77e764",
   "metadata": {},
   "source": [
    "### 3. 환율 정보 가져오기 (과제)"
   ]
  },
  {
   "cell_type": "code",
   "execution_count": 84,
   "id": "e99aca51",
   "metadata": {},
   "outputs": [],
   "source": [
    "from selenium import webdriver\n",
    "from selenium.webdriver.common.by import By\n",
    "\n",
    "browser = webdriver.Chrome()\n",
    "browser.get('https://search.naver.com/search.naver?where=nexearch&sm=top_hty&fbm=1&ie=utf8&query=%ED%99%98%EC%9C%A8')"
   ]
  },
  {
   "cell_type": "code",
   "execution_count": 85,
   "id": "7a559da1",
   "metadata": {},
   "outputs": [
    {
     "data": {
      "text/plain": [
       "<selenium.webdriver.remote.webelement.WebElement (session=\"5aca9eb3d94f2f42d36fad995b2f99bd\", element=\"b05af4b4-25ce-4e94-88eb-dacfc93409da\")>"
      ]
     },
     "execution_count": 85,
     "metadata": {},
     "output_type": "execute_result"
    }
   ],
   "source": [
    "table = browser.find_element(By.CLASS_NAME, 'rate_table_bx')\n",
    "table"
   ]
  },
  {
   "cell_type": "code",
   "execution_count": 86,
   "id": "876d3273",
   "metadata": {},
   "outputs": [
    {
     "data": {
      "text/plain": [
       "'통화명\\n매매기준율\\n전일대비\\n등락률\\n미국 USD\\n1,425.10\\n전일대비\\n하락7.90\\n-0.55%\\n일본 JPY 100\\n961.54\\n전일대비\\n하락6.87\\n-0.71%\\n유럽연합 EUR\\n1,418.97\\n전일대비\\n하락6.44\\n-0.45%\\n중국 CNY\\n195.01\\n전일대비\\n하락0.95\\n-0.48%\\n영국 GBP\\n1,632.81\\n전일대비\\n하락10.41\\n-0.63%\\n호주 AUD\\n913.28\\n전일대비\\n하락1.76\\n-0.19%\\n캐나다 CAD\\n1,048.06\\n전일대비\\n하락3.53\\n-0.34%\\n뉴질랜드 NZD\\n819.58\\n전일대비\\n하락5.11\\n-0.62%'"
      ]
     },
     "execution_count": 86,
     "metadata": {},
     "output_type": "execute_result"
    }
   ],
   "source": [
    "table.text"
   ]
  },
  {
   "cell_type": "code",
   "execution_count": 87,
   "id": "5cff15de",
   "metadata": {},
   "outputs": [
    {
     "data": {
      "text/plain": [
       "[<selenium.webdriver.remote.webelement.WebElement (session=\"5aca9eb3d94f2f42d36fad995b2f99bd\", element=\"a01cfc00-5470-41f2-81d8-9b0423e7d019\")>,\n",
       " <selenium.webdriver.remote.webelement.WebElement (session=\"5aca9eb3d94f2f42d36fad995b2f99bd\", element=\"3b44b004-91d1-47d0-929d-46d53d65209b\")>,\n",
       " <selenium.webdriver.remote.webelement.WebElement (session=\"5aca9eb3d94f2f42d36fad995b2f99bd\", element=\"6047edbb-6494-4ba0-9e02-4e207497a32b\")>,\n",
       " <selenium.webdriver.remote.webelement.WebElement (session=\"5aca9eb3d94f2f42d36fad995b2f99bd\", element=\"169e5295-233b-469b-bced-64eec1fefd06\")>,\n",
       " <selenium.webdriver.remote.webelement.WebElement (session=\"5aca9eb3d94f2f42d36fad995b2f99bd\", element=\"e43a5749-020b-41ca-a3d6-1bbe2a366b9b\")>,\n",
       " <selenium.webdriver.remote.webelement.WebElement (session=\"5aca9eb3d94f2f42d36fad995b2f99bd\", element=\"0693164f-7fa6-411e-bf33-ec80a73f8044\")>,\n",
       " <selenium.webdriver.remote.webelement.WebElement (session=\"5aca9eb3d94f2f42d36fad995b2f99bd\", element=\"5baa6d14-faa8-4d8e-897d-8e78dcbb0b16\")>,\n",
       " <selenium.webdriver.remote.webelement.WebElement (session=\"5aca9eb3d94f2f42d36fad995b2f99bd\", element=\"9bcad07e-cb47-4464-83ea-2ceb6fc0ffeb\")>,\n",
       " <selenium.webdriver.remote.webelement.WebElement (session=\"5aca9eb3d94f2f42d36fad995b2f99bd\", element=\"4009fae5-64c6-4245-8dc0-3bf1a5705526\")>]"
      ]
     },
     "execution_count": 87,
     "metadata": {},
     "output_type": "execute_result"
    }
   ],
   "source": [
    "table.find_elements(By.TAG_NAME, 'tr')"
   ]
  },
  {
   "cell_type": "code",
   "execution_count": 70,
   "id": "0c9bf874",
   "metadata": {},
   "outputs": [
    {
     "data": {
      "text/plain": [
       "['미국 USD',\n",
       " '일본 JPY 100',\n",
       " '유럽연합 EUR',\n",
       " '중국 CNY',\n",
       " '영국 GBP',\n",
       " '호주 AUD',\n",
       " '캐나다 CAD',\n",
       " '뉴질랜드 NZD']"
      ]
     },
     "execution_count": 70,
     "metadata": {},
     "output_type": "execute_result"
    }
   ],
   "source": [
    "rows = table.find_elements(By.TAG_NAME, 'tr')[1:]\n",
    "\n",
    "country = []\n",
    "for i in rows:\n",
    "    country.append(i.find_element(By.TAG_NAME, 'th').text)\n",
    "country"
   ]
  },
  {
   "cell_type": "code",
   "execution_count": 71,
   "id": "13557da4",
   "metadata": {},
   "outputs": [
    {
     "data": {
      "text/plain": [
       "['1426.70',\n",
       " '962.04',\n",
       " '1419.99',\n",
       " '194.82',\n",
       " '1634.14',\n",
       " '911.95',\n",
       " '1048.47',\n",
       " '820.07']"
      ]
     },
     "execution_count": 71,
     "metadata": {},
     "output_type": "execute_result"
    }
   ],
   "source": [
    "rows = table.find_elements(By.TAG_NAME, 'tr')[1:]\n",
    "\n",
    "nm = []\n",
    "for i in rows:\n",
    "    nm.append(i.find_element(By.TAG_NAME, 'td').text.replace(',',''))\n",
    "nm"
   ]
  },
  {
   "cell_type": "code",
   "execution_count": 72,
   "id": "3f3efe10",
   "metadata": {},
   "outputs": [
    {
     "data": {
      "text/plain": [
       "['▼6.30', '▼6.37', '▼5.42', '▼1.14', '▼9.08', '▼3.09', '▼3.12', '▼4.62']"
      ]
     },
     "execution_count": 72,
     "metadata": {},
     "output_type": "execute_result"
    }
   ],
   "source": [
    "rows = table.find_elements(By.TAG_NAME, 'tr')[1:]\n",
    "\n",
    "flu_nm = []\n",
    "for i in rows:\n",
    "    if i.find_element(By.CLASS_NAME, 'flu_nm').find_element(By.CLASS_NAME, 'ico').text == '하락':\n",
    "        flu_nm.append('▼' + i.find_element(By.CLASS_NAME, 'flu_nm').find_element(By.TAG_NAME, 'em').text)\n",
    "    else:\n",
    "        flu_nm.append('▲' + i.find_element(By.CLASS_NAME, 'flu_nm').find_element(By.TAG_NAME, 'em').text)\n",
    "flu_nm"
   ]
  },
  {
   "cell_type": "code",
   "execution_count": 73,
   "id": "db667539",
   "metadata": {},
   "outputs": [
    {
     "data": {
      "text/plain": [
       "['-0.44%',\n",
       " '-0.66%',\n",
       " '-0.38%',\n",
       " '-0.58%',\n",
       " '-0.55%',\n",
       " '-0.34%',\n",
       " '-0.30%',\n",
       " '-0.56%']"
      ]
     },
     "execution_count": 73,
     "metadata": {},
     "output_type": "execute_result"
    }
   ],
   "source": [
    "rows = table.find_elements(By.TAG_NAME, 'tr')[1:]\n",
    "\n",
    "flu_pct = []\n",
    "for i in rows:\n",
    "    flu_pct.append(i.find_element(By.CLASS_NAME, 'flu_pct').text)\n",
    "flu_pct"
   ]
  },
  {
   "cell_type": "code",
   "execution_count": 76,
   "id": "2e4e0753",
   "metadata": {},
   "outputs": [
    {
     "data": {
      "text/plain": [
       "<_io.TextIOWrapper name='flu.csv' mode='a' encoding='UTF-8-sig'>"
      ]
     },
     "execution_count": 76,
     "metadata": {},
     "output_type": "execute_result"
    }
   ],
   "source": [
    "# 환율 엑셀 파일 생성\n",
    "file = open('flu.csv', 'a', encoding='UTF-8-sig')\n",
    "file.write(\"{}, {}, {}, {} \\n\".format(\"통화명\", '매매기준율', '전일대비', '등락률'))\n",
    "\n",
    "for i in range(len(country)):\n",
    "    file.write(\"{}, {}, {}, {} \\n\".format(country[i], nm[i], flu_nm[i], flu_pct[i]))\n",
    "file.close()\n",
    "\n",
    "file"
   ]
  },
  {
   "cell_type": "code",
   "execution_count": null,
   "id": "01c80097",
   "metadata": {},
   "outputs": [],
   "source": []
  }
 ],
 "metadata": {
  "kernelspec": {
   "display_name": "Python 3 (ipykernel)",
   "language": "python",
   "name": "python3"
  },
  "language_info": {
   "codemirror_mode": {
    "name": "ipython",
    "version": 3
   },
   "file_extension": ".py",
   "mimetype": "text/x-python",
   "name": "python",
   "nbconvert_exporter": "python",
   "pygments_lexer": "ipython3",
   "version": "3.9.13"
  }
 },
 "nbformat": 4,
 "nbformat_minor": 5
}
